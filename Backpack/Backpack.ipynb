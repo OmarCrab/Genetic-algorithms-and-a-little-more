{
 "cells": [
  {
   "cell_type": "code",
   "execution_count": 2,
   "id": "18ca0ec5",
   "metadata": {},
   "outputs": [],
   "source": [
    "class Backpack:\n",
    "    def __init__(self):\n",
    "        #Создаём список объектов и устанавливаем максимальный вес рюкзака\n",
    "        self.items = []\n",
    "        self.maxCapacity = 0\n",
    "        \n",
    "        self.__init_data()\n",
    "    \n",
    "    def __len__(self):\n",
    "        return len(self.items)\n",
    "    \n",
    "    def __init_data(self):\n",
    "        \n",
    "        self.items = [\n",
    "            (\"карта\", 9, 150),\n",
    "            (\"компас\", 13, 35),\n",
    "            (\"вода\", 153, 200),\n",
    "            (\"бутерброд\", 50, 160),\n",
    "            (\"глюкоза\", 15, 60),\n",
    "            (\"банка\", 68, 45),\n",
    "            (\"банан\", 27, 60),\n",
    "            (\"яблоко\", 39, 40),\n",
    "            (\"сыр\", 23, 30),\n",
    "            (\"кресало\", 5, 80),\n",
    "            (\"крем от загара\", 11, 70),\n",
    "            (\"камера\", 32, 30),\n",
    "            (\"футболка\", 24, 15),\n",
    "            (\"брюки\", 48, 10),\n",
    "            (\"зонтик\", 73, 40),\n",
    "            (\"водонепроницаемые брюки\", 42, 70),\n",
    "            (\"водонепроницаемая верхняя одежда\", 43, 75),\n",
    "            (\"портмоне\", 22, 80),\n",
    "            (\"солнечные очки\", 7, 20),\n",
    "            (\"полотенце\", 18, 12),\n",
    "            (\"носки\", 4, 50),\n",
    "            (\"книга\", 30, 10)\n",
    "        ]\n",
    "    \n",
    "        self.maxCapacity = 400\n",
    "\n",
    "    def getValue(self, zeroOneList):\n",
    "        totalWeight = totalValue = 0\n",
    "\n",
    "        for i in range(min(len(zeroOneList), len(self.items))):\n",
    "            item, weight, value = self.items[i]\n",
    "            if totalWeight + weight <= self.maxCapacity:\n",
    "                totalWeight += zeroOneList[i] * weight\n",
    "                totalValue += zeroOneList[i] * value\n",
    "        return totalValue,\n",
    "    \n",
    "    def printItems(self, zeroOneList):\n",
    "        \n",
    "        totalWeight = totalValue = 0\n",
    "        listOfItems = ''\n",
    "        \n",
    "        for i in range(len(zeroOneList)):\n",
    "            item, weight, value = self.items[i]\n",
    "            if totalWeight + weight <= self.maxCapacity:\n",
    "                totalWeight += weight\n",
    "                totalValue += value\n",
    "                listOfItems += item + ', '\n",
    "                print(\"Добавлено {}: вес {}, ценность {}. Суммарный вес {}, суммарная ценность {}\".format(item, weight, value, totalWeight, totalValue))\n",
    "        print (\"Сборка завершена. Общий вес {}, общая ценность груза {}\".format(totalWeight, totalValue))\n",
    "        print (\"Общий список рекомендуемых предметов: {}\".format(listOfItems)) "
   ]
  },
  {
   "cell_type": "code",
   "execution_count": 1,
   "id": "97040f22",
   "metadata": {},
   "outputs": [
    {
     "name": "stdout",
     "output_type": "stream",
     "text": [
      "Привет!\n"
     ]
    }
   ],
   "source": [
    "def say_hello():\n",
    "    print(\"Привет!\")\n",
    "\n",
    "say_hello()"
   ]
  }
 ],
 "metadata": {
  "kernelspec": {
   "display_name": "Python 3 (ipykernel)",
   "language": "python",
   "name": "python3"
  },
  "language_info": {
   "codemirror_mode": {
    "name": "ipython",
    "version": 3
   },
   "file_extension": ".py",
   "mimetype": "text/x-python",
   "name": "python",
   "nbconvert_exporter": "python",
   "pygments_lexer": "ipython3",
   "version": "3.11.5"
  }
 },
 "nbformat": 4,
 "nbformat_minor": 5
}
