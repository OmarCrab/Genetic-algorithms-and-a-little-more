{
 "cells": [
  {
   "cell_type": "code",
   "execution_count": null,
   "id": "ab09c146",
   "metadata": {},
   "outputs": [],
   "source": [
    "class NurseScheduleProblem:\n",
    "    def __init__(self, hardConstrainPenalty):\n",
    "        self.hardConstrainPenalty = hardConstrainPenalty"
   ]
  }
 ],
 "metadata": {
  "kernelspec": {
   "display_name": "Omar",
   "language": "python",
   "name": "omar"
  },
  "language_info": {
   "codemirror_mode": {
    "name": "ipython",
    "version": 3
   },
   "file_extension": ".py",
   "mimetype": "text/x-python",
   "name": "python",
   "nbconvert_exporter": "python",
   "pygments_lexer": "ipython3",
   "version": "3.7.0"
  }
 },
 "nbformat": 4,
 "nbformat_minor": 5
}
