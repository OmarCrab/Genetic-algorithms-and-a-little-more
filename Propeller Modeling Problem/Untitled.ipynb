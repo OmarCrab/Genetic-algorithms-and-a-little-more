{
 "cells": [
  {
   "cell_type": "code",
   "execution_count": null,
   "id": "e3cd331e-bb0b-4869-ac0b-bbc9fc5ce30c",
   "metadata": {},
   "outputs": [],
   "source": []
  },
  {
   "cell_type": "code",
   "execution_count": 1,
   "id": "90a73009-c4e8-46c3-b635-f3f621cefff4",
   "metadata": {},
   "outputs": [
    {
     "ename": "SyntaxError",
     "evalue": "incomplete input (452385716.py, line 2)",
     "output_type": "error",
     "traceback": [
      "\u001b[1;36m  Cell \u001b[1;32mIn[1], line 2\u001b[1;36m\u001b[0m\n\u001b[1;33m    def __init__(self):\u001b[0m\n\u001b[1;37m                       ^\u001b[0m\n\u001b[1;31mSyntaxError\u001b[0m\u001b[1;31m:\u001b[0m incomplete input\n"
     ]
    }
   ],
   "source": [
    "class PropellerCalculationProblem:\n",
    "    def __init__(self, P_motor, T_motor, RPM_motor, KV_motor):\n",
    "        self.P_motor = P_motor\n",
    "        self.T_motor = T_motor\n",
    "        self.RPM_motor = RPM_motor\n",
    "        self.KV_motor = KV_motor\n",
    "        self.get_\n",
    "\n",
    "    def get_drone_parameters(self):\n",
    "        self.M_drone = int(input('Введите желаемую массу дрона в граммах'))\n",
    "        self.mission = input('Выберите тип дрона: грузовой, коммерческий, гоночный').lower\n",
    "        self.flight_time = int(input('Введите ориентировочное полётное время'))\n",
    "        self.max_speed = int(input('Введите желаемую максимальную скорость'))\n",
    "    \n",
    "    def get_lift(self):\n",
    "        return "
   ]
  },
  {
   "cell_type": "code",
   "execution_count": null,
   "id": "d058b45c-e2bd-4a67-812d-cec7983681be",
   "metadata": {},
   "outputs": [],
   "source": []
  }
 ],
 "metadata": {
  "kernelspec": {
   "display_name": "Python 3 (ipykernel)",
   "language": "python",
   "name": "python3"
  },
  "language_info": {
   "codemirror_mode": {
    "name": "ipython",
    "version": 3
   },
   "file_extension": ".py",
   "mimetype": "text/x-python",
   "name": "python",
   "nbconvert_exporter": "python",
   "pygments_lexer": "ipython3",
   "version": "3.12.3"
  }
 },
 "nbformat": 4,
 "nbformat_minor": 5
}
