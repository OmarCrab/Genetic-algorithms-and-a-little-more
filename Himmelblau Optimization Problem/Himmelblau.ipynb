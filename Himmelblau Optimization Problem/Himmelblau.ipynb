{
 "cells": [
  {
   "cell_type": "code",
   "execution_count": 2,
   "id": "cb40db1d-aaf1-4cc5-adf4-d55126ee4b6b",
   "metadata": {},
   "outputs": [],
   "source": [
    "from deap import tools, base, creator\n",
    "\n",
    "import random, array\n",
    "\n",
    "import numpy as np\n",
    "import matplotlib.pyplot as plt\n",
    "import seaborn as sns\n",
    "\n",
    "import sys\n",
    "sys.path.insert(0, \"C:/Jupyter/Evolution\")\n",
    "import elitysm"
   ]
  },
  {
   "cell_type": "code",
   "execution_count": 7,
   "id": "ea0c7a70-b130-4503-8acf-b6b5701f4faa",
   "metadata": {},
   "outputs": [],
   "source": [
    "DIMENSIONS = 2\n",
    "BOUND_LOW, BOUND_UP = -5.0, 5.0\n",
    "\n",
    "POPULATION_SIZE = 300\n",
    "P_CROSSOVER = 0.9\n",
    "P_MUTATION = 0.1\n",
    "MAX_GENERATIONS = 300\n",
    "HALL_OF_FAME_SIZE = 30\n",
    "GROWDING_FACTOR = 20.0\n",
    "\n",
    "RANDOM_SEED = 42\n",
    "random.seed(RANDOM_SEED)"
   ]
  },
  {
   "cell_type": "code",
   "execution_count": 4,
   "id": "dd154028-44ac-407c-93fe-92cde00a0899",
   "metadata": {},
   "outputs": [],
   "source": [
    "def randomFloat(low,up):\n",
    "    return [random.uniform(l,u) for l,u in zip ([low]*DIMENSIONS, [up]*DIMENSIONS)]"
   ]
  },
  {
   "cell_type": "code",
   "execution_count": 5,
   "id": "b823a2ec-9b34-42d0-b0c5-caab59f76ff4",
   "metadata": {},
   "outputs": [],
   "source": [
    "toolbox = base.Toolbox()\n",
    "\n",
    "creator.create(\"FitnessMin\", base.Fitness, weights = (-1.0,))\n",
    "\n",
    "creator.create(\"Individual\", list, fitness=creator.FitnessMin)\n",
    ",\n",
    "toolbox.register(\"attrFloat\", randomFloat, BOUND_LOW, BOUND_UP)\n",
    "toolbox.register(\"individualCreator\", tools.initIterate, creator.Individual, toolbox.attrFloat)\n",
    "toolbox.register(\"populationCreator\", tools.initRepeat, list, toolbox.individualCreator)"
   ]
  },
  {
   "cell_type": "code",
   "execution_count": 9,
   "id": "50402fcd-3a8d-4f12-bcfa-9ef425331cd1",
   "metadata": {},
   "outputs": [],
   "source": [
    "def himmelblau(individual):\n",
    "    x= individual[0]\n",
    "    y= individual[1]\n",
    "    f=((x**2+y-11)**2)+((x+y**2-7)**2)\n",
    "    return f,\n",
    "\n",
    "toolbox.register(\"evaluate\", himmelblau)"
   ]
  },
  {
   "cell_type": "code",
   "execution_count": 6,
   "id": "b783e353-4098-4ce7-8cf9-ea5f76d5e9a2",
   "metadata": {},
   "outputs": [],
   "source": [
    "toolbox.register(\"select\", tools.selTournament, tournsize = 2)\n",
    "toolbox.register(\"mate\", tools.cxSimulatedBinaryBounded, low = BOUND_LOW, up = BOUND_UP, eta = GROWDING_FACTOR)\n",
    "toolbox.register(\"mutate\", tools.mutPolynomialBounded, low = BOUND_LOW, up = BOUND_UP, eta = GROWDING_FACTOR, indpb= 1.0/DIMENSIONS)"
   ]
  },
  {
   "cell_type": "code",
   "execution_count": 10,
   "id": "6df40352-b593-47f0-9a21-de514bbf809c",
   "metadata": {},
   "outputs": [],
   "source": [
    "def main():\n",
    "     # create initial population (generation 0):\n",
    "    population = toolbox.populationCreator(n=POPULATION_SIZE)\n",
    "\n",
    "    # prepare the statistics object:\n",
    "    stats = tools.Statistics(lambda ind: ind.fitness.values)\n",
    "    stats.register(\"min\", np.min)\n",
    "    stats.register(\"avg\", np.mean)\n",
    "\n",
    "    # define the hall-of-fame object:\n",
    "    hof = tools.HallOfFame(HALL_OF_FAME_SIZE)\n",
    "\n",
    "    # perform the Genetic Algorithm flow with elitism:\n",
    "    population, logbook = elitysm.eaSimpleWithElitism(population, toolbox, cxpb=P_CROSSOVER, mutpb=P_MUTATION,\n",
    "                                              ngen=MAX_GENERATIONS, stats=stats, halloffame=hof, verbose=True)\n",
    "\n",
    "    # print info for best solution found:\n",
    "    best = hof.items[0]\n",
    "    print(\"-- Best Individual = \", best)\n",
    "    print(\"-- Best Fitness = \", best.fitness.values[0])\n",
    "\n",
    "    # extract statistics:\n",
    "    minFitnessValues, meanFitnessValues = logbook.select(\"min\", \"avg\")\n",
    "\n",
    "    # plot statistics:\n",
    "    sns.set_style(\"whitegrid\")\n",
    "    plt.plot(minFitnessValues, color='red')\n",
    "    plt.plot(meanFitnessValues, color='green')\n",
    "    plt.xlabel('Generation')\n",
    "    plt.ylabel('Min / Average Fitness')\n",
    "    plt.title('Min and Average fitness over Generations')\n",
    "\n",
    "    plt.show()"
   ]
  },
  {
   "cell_type": "code",
   "execution_count": null,
   "id": "193f7465-78e6-488c-9552-3aea06b9d888",
   "metadata": {},
   "outputs": [],
   "source": [
    "main()"
   ]
  }
 ],
 "metadata": {
  "kernelspec": {
   "display_name": "Python 3 (ipykernel)",
   "language": "python",
   "name": "python3"
  },
  "language_info": {
   "codemirror_mode": {
    "name": "ipython",
    "version": 3
   },
   "file_extension": ".py",
   "mimetype": "text/x-python",
   "name": "python",
   "nbconvert_exporter": "python",
   "pygments_lexer": "ipython3",
   "version": "3.12.3"
  }
 },
 "nbformat": 4,
 "nbformat_minor": 5
}
