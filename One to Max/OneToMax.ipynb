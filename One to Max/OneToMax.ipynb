{
 "cells": [
  {
   "cell_type": "code",
   "execution_count": null,
   "id": "c7f15915",
   "metadata": {},
   "outputs": [],
   "source": [
    "Установка нужных библиотек. Если таковые уже имеются, то можно пропустить или,\n",
    "что лучше, проверить обновление библиотек"
   ]
  },
  {
   "cell_type": "code",
   "execution_count": 1,
   "id": "9f3ce10a",
   "metadata": {},
   "outputs": [
    {
     "name": "stdout",
     "output_type": "stream",
     "text": [
      "Requirement already satisfied: pip in c:\\users\\posit\\anaconda3\\lib\\site-packages (24.0)\n",
      "Requirement already satisfied: deap in c:\\object_detection\\tfodcourse\\omar\\lib\\site-packages (1.4.1)\n",
      "Requirement already satisfied: numpy in c:\\object_detection\\tfodcourse\\omar\\lib\\site-packages (from deap) (1.21.6)\n",
      "Note: you may need to restart the kernel to use updated packages.\n"
     ]
    },
    {
     "name": "stderr",
     "output_type": "stream",
     "text": [
      "\n",
      "[notice] A new release of pip is available: 23.3.1 -> 24.0\n",
      "[notice] To update, run: C:\\object_detection\\TFODCourse\\Omar\\Scripts\\python.exe -m pip install --upgrade pip\n"
     ]
    },
    {
     "name": "stdout",
     "output_type": "stream",
     "text": [
      "Requirement already satisfied: numpy in c:\\object_detection\\tfodcourse\\omar\\lib\\site-packages (1.21.6)Note: you may need to restart the kernel to use updated packages.\n"
     ]
    },
    {
     "name": "stderr",
     "output_type": "stream",
     "text": [
      "\n",
      "[notice] A new release of pip is available: 23.3.1 -> 24.0\n",
      "[notice] To update, run: C:\\object_detection\\TFODCourse\\Omar\\Scripts\\python.exe -m pip install --upgrade pip\n"
     ]
    },
    {
     "name": "stdout",
     "output_type": "stream",
     "text": [
      "\n",
      "Requirement already satisfied: seaborn in c:\\object_detection\\tfodcourse\\omar\\lib\\site-packages (0.12.2)\n",
      "Requirement already satisfied: numpy!=1.24.0,>=1.17 in c:\\object_detection\\tfodcourse\\omar\\lib\\site-packages (from seaborn) (1.21.6)\n",
      "Requirement already satisfied: pandas>=0.25 in c:\\object_detection\\tfodcourse\\omar\\lib\\site-packages (from seaborn) (1.1.5)\n",
      "Requirement already satisfied: matplotlib!=3.6.1,>=3.1 in c:\\object_detection\\tfodcourse\\omar\\lib\\site-packages (from seaborn) (3.5.3)\n",
      "Requirement already satisfied: typing_extensions in c:\\object_detection\\tfodcourse\\omar\\lib\\site-packages (from seaborn) (4.7.1)\n",
      "Requirement already satisfied: cycler>=0.10 in c:\\object_detection\\tfodcourse\\omar\\lib\\site-packages (from matplotlib!=3.6.1,>=3.1->seaborn) (0.11.0)\n",
      "Requirement already satisfied: fonttools>=4.22.0 in c:\\object_detection\\tfodcourse\\omar\\lib\\site-packages (from matplotlib!=3.6.1,>=3.1->seaborn) (4.38.0)\n",
      "Requirement already satisfied: kiwisolver>=1.0.1 in c:\\object_detection\\tfodcourse\\omar\\lib\\site-packages (from matplotlib!=3.6.1,>=3.1->seaborn) (1.4.5)\n",
      "Requirement already satisfied: packaging>=20.0 in c:\\object_detection\\tfodcourse\\omar\\lib\\site-packages (from matplotlib!=3.6.1,>=3.1->seaborn) (23.2)\n",
      "Requirement already satisfied: pillow>=6.2.0 in c:\\object_detection\\tfodcourse\\omar\\lib\\site-packages (from matplotlib!=3.6.1,>=3.1->seaborn) (9.5.0)\n",
      "Requirement already satisfied: pyparsing>=2.2.1 in c:\\object_detection\\tfodcourse\\omar\\lib\\site-packages (from matplotlib!=3.6.1,>=3.1->seaborn) (3.1.2)\n",
      "Requirement already satisfied: python-dateutil>=2.7 in c:\\object_detection\\tfodcourse\\omar\\lib\\site-packages (from matplotlib!=3.6.1,>=3.1->seaborn) (2.8.2)\n",
      "Requirement already satisfied: pytz>=2017.2 in c:\\object_detection\\tfodcourse\\omar\\lib\\site-packages (from pandas>=0.25->seaborn) (2024.1)\n",
      "Requirement already satisfied: six>=1.5 in c:\\object_detection\\tfodcourse\\omar\\lib\\site-packages (from python-dateutil>=2.7->matplotlib!=3.6.1,>=3.1->seaborn) (1.16.0)\n",
      "Note: you may need to restart the kernel to use updated packages.\n"
     ]
    },
    {
     "name": "stderr",
     "output_type": "stream",
     "text": [
      "\n",
      "[notice] A new release of pip is available: 23.3.1 -> 24.0\n",
      "[notice] To update, run: C:\\object_detection\\TFODCourse\\Omar\\Scripts\\python.exe -m pip install --upgrade pip\n"
     ]
    },
    {
     "name": "stdout",
     "output_type": "stream",
     "text": [
      "Requirement already satisfied: matplotlib in c:\\object_detection\\tfodcourse\\omar\\lib\\site-packages (3.5.3)Note: you may need to restart the kernel to use updated packages.\n",
      "\n",
      "Requirement already satisfied: cycler>=0.10 in c:\\object_detection\\tfodcourse\\omar\\lib\\site-packages (from matplotlib) (0.11.0)\n",
      "Requirement already satisfied: fonttools>=4.22.0 in c:\\object_detection\\tfodcourse\\omar\\lib\\site-packages (from matplotlib) (4.38.0)\n",
      "Requirement already satisfied: kiwisolver>=1.0.1 in c:\\object_detection\\tfodcourse\\omar\\lib\\site-packages (from matplotlib) (1.4.5)\n",
      "Requirement already satisfied: numpy>=1.17 in c:\\object_detection\\tfodcourse\\omar\\lib\\site-packages (from matplotlib) (1.21.6)\n",
      "Requirement already satisfied: packaging>=20.0 in c:\\object_detection\\tfodcourse\\omar\\lib\\site-packages (from matplotlib) (23.2)\n",
      "Requirement already satisfied: pillow>=6.2.0 in c:\\object_detection\\tfodcourse\\omar\\lib\\site-packages (from matplotlib) (9.5.0)\n",
      "Requirement already satisfied: pyparsing>=2.2.1 in c:\\object_detection\\tfodcourse\\omar\\lib\\site-packages (from matplotlib) (3.1.2)\n",
      "Requirement already satisfied: python-dateutil>=2.7 in c:\\object_detection\\tfodcourse\\omar\\lib\\site-packages (from matplotlib) (2.8.2)\n",
      "Requirement already satisfied: typing-extensions in c:\\object_detection\\tfodcourse\\omar\\lib\\site-packages (from kiwisolver>=1.0.1->matplotlib) (4.7.1)\n",
      "Requirement already satisfied: six>=1.5 in c:\\object_detection\\tfodcourse\\omar\\lib\\site-packages (from python-dateutil>=2.7->matplotlib) (1.16.0)\n"
     ]
    },
    {
     "name": "stderr",
     "output_type": "stream",
     "text": [
      "\n",
      "[notice] A new release of pip is available: 23.3.1 -> 24.0\n",
      "[notice] To update, run: C:\\object_detection\\TFODCourse\\Omar\\Scripts\\python.exe -m pip install --upgrade pip\n"
     ]
    }
   ],
   "source": [
    "!python.exe -m pip install --upgrade pip\n",
    "\n",
    "%pip install deap\n",
    "%pip install numpy\n",
    "%pip install seaborn\n",
    "%pip install matplotlib"
   ]
  },
  {
   "cell_type": "code",
   "execution_count": null,
   "id": "dc65df99",
   "metadata": {},
   "outputs": [],
   "source": [
    "Импорт всего, что нужно"
   ]
  },
  {
   "cell_type": "code",
   "execution_count": 2,
   "id": "282813f3",
   "metadata": {},
   "outputs": [],
   "source": [
    "from deap import creator, base, tools\n",
    "import random\n",
    "import matplotlib.pyplot as plt"
   ]
  },
  {
   "cell_type": "code",
   "execution_count": null,
   "id": "70609c51",
   "metadata": {},
   "outputs": [],
   "source": [
    "Создадим некоторые константы для работы"
   ]
  },
  {
   "cell_type": "code",
   "execution_count": 4,
   "id": "51e9eea6",
   "metadata": {},
   "outputs": [],
   "source": [
    "#Константы задачи\n",
    "ONE_TO_MAX_LENGTH = 100\n",
    "\n",
    "#Константы Г.А.\n",
    "POPULATION_SIZE=200\n",
    "P_CROSSOVER=0.9\n",
    "P_MUTATION=0.1\n",
    "MAX_GENERATIONS=50"
   ]
  },
  {
   "cell_type": "code",
   "execution_count": 3,
   "id": "06baf3ab",
   "metadata": {},
   "outputs": [],
   "source": [
    "Сделаем генератор случайных чисел, чтобы внести щепотку хаоса в эту кашу"
   ]
  },
  {
   "cell_type": "code",
   "execution_count": 6,
   "id": "8e571b58",
   "metadata": {},
   "outputs": [],
   "source": [
    "RANDOM_SEED = random.randint(-,100)\n",
    "random.seed(RANDOM_SEED)"
   ]
  },
  {
   "cell_type": "code",
   "execution_count": 3,
   "id": "314b0bf3",
   "metadata": {},
   "outputs": [],
   "source": [
    "Сделаем функцию генерации случайных чисел в лист, заполняя его "
   ]
  },
  {
   "cell_type": "code",
   "execution_count": 7,
   "id": "95413176",
   "metadata": {},
   "outputs": [],
   "source": [
    "toolbox = base.Toolbox()\n",
    "toolbox.register(\"zerotoOne\", random.randint,0,1)"
   ]
  },
  {
   "cell_type": "code",
   "execution_count": 7,
   "id": "c5943a74",
   "metadata": {},
   "outputs": [],
   "source": [
    "Создаём класс FitnessMax"
   ]
  },
  {
   "cell_type": "code",
   "execution_count": 8,
   "id": "b0b4d73e",
   "metadata": {},
   "outputs": [],
   "source": [
    "creator.create(\"FitnessMax\", base.Fitness, weights=(1.0,))"
   ]
  },
  {
   "cell_type": "code",
   "execution_count": 7,
   "id": "f8c7f446",
   "metadata": {},
   "outputs": [],
   "source": [
    "Создаём класс индивидуума для работы"
   ]
  },
  {
   "cell_type": "code",
   "execution_count": 10,
   "id": "849f7850",
   "metadata": {},
   "outputs": [],
   "source": [
    "creator.create(\"Individual\", list, fitness=creator.FitnessMax)"
   ]
  },
  {
   "cell_type": "code",
   "execution_count": 9,
   "id": "1f6c29f1",
   "metadata": {},
   "outputs": [],
   "source": [
    "После чего создаём экземпляры этого класса"
   ]
  },
  {
   "cell_type": "code",
   "execution_count": 11,
   "id": "8720dea2",
   "metadata": {},
   "outputs": [],
   "source": [
    "toolbox.register(\"individualCreator\", tools.initRepeat, \n",
    "                 creator.Individual, toolbox.zerotoOne, ONE_TO_MAX_LENGTH)"
   ]
  },
  {
   "cell_type": "code",
   "execution_count": 9,
   "id": "3332e349",
   "metadata": {},
   "outputs": [],
   "source": [
    "И, наконец, создаём популяцию дебилов"
   ]
  },
  {
   "cell_type": "code",
   "execution_count": 12,
   "id": "e7060850",
   "metadata": {},
   "outputs": [],
   "source": [
    "toolbox.register(\"populationCreator\",tools.initRepeat,\n",
    "                list, toolbox.individualCreator)"
   ]
  },
  {
   "cell_type": "code",
   "execution_count": 12,
   "id": "05a4ac71",
   "metadata": {},
   "outputs": [],
   "source": [
    "Объявим функцию приспособленности и зарегистрируем её"
   ]
  },
  {
   "cell_type": "code",
   "execution_count": 13,
   "id": "63ada5d2",
   "metadata": {},
   "outputs": [],
   "source": [
    "def oneToMax(individual):\n",
    "    return sum(individual),\n",
    "\n",
    "toolbox.register(\"evaulate\", oneToMax)"
   ]
  },
  {
   "cell_type": "code",
   "execution_count": 13,
   "id": "4b17e859",
   "metadata": {},
   "outputs": [],
   "source": [
    "Объявим генетические операторы"
   ]
  },
  {
   "cell_type": "code",
   "execution_count": 14,
   "id": "b27b1f1d",
   "metadata": {},
   "outputs": [],
   "source": [
    "toolbox.register(\"select\",tools.selTournament,tournsize=3)\n",
    "toolbox.register(\"mate\",tools.cxOnePoint)\n",
    "toolbox.register(\"mutate\",tools.mutFlipBit, indpb=1.0/ONE_TO_MAX_LENGTH)"
   ]
  },
  {
   "cell_type": "code",
   "execution_count": 13,
   "id": "ad324f68",
   "metadata": {},
   "outputs": [],
   "source": [
    "ЭВОЛЮЦИЯ РЕШЕНИЯ"
   ]
  },
  {
   "cell_type": "code",
   "execution_count": 18,
   "id": "6050422e",
   "metadata": {},
   "outputs": [
    {
     "name": "stdout",
     "output_type": "stream",
     "text": [
      "- Поколение 1: Макс. приспособленность = 67.0, Средняя приспособленность =  54.475\n",
      "Лучший индивидуум =  1 1 1 1 1 1 1 1 0 1 0 0 0 0 1 1 1 1 1 0 0 1 1 1 1 1 1 0 1 0 1 1 0 1 1 1 1 1 0 1 0 1 0 1 0 1 1 0 0 1 0 1 0 0 1 1 1 0 0 1 1 1 0 0 1 1 0 1 1 1 1 0 1 1 0 1 1 0 1 1 0 0 1 1 1 1 0 0 0 1 1 1 1 1 1 1 1 1 0 1 \n",
      "\n",
      "- Поколение 2: Макс. приспособленность = 69.0, Средняя приспособленность =  58.005\n",
      "Лучший индивидуум =  1 1 1 1 1 1 1 1 0 1 0 0 0 0 1 1 1 1 1 0 0 1 1 1 1 1 1 0 1 0 1 1 0 1 1 1 0 0 1 1 1 1 0 0 1 1 1 0 1 0 1 1 1 0 1 1 1 1 1 1 1 1 0 1 1 0 1 0 0 1 0 1 1 1 1 1 0 0 1 1 1 1 1 1 1 0 1 0 1 0 0 1 0 0 1 1 1 1 1 0 \n",
      "\n",
      "- Поколение 3: Макс. приспособленность = 69.0, Средняя приспособленность =  61.215\n",
      "Лучший индивидуум =  1 1 1 1 1 1 0 1 0 1 1 1 1 0 1 0 1 0 0 1 1 1 0 1 1 1 1 1 1 1 1 1 0 1 1 0 0 1 0 1 0 1 1 1 1 1 1 1 0 0 1 0 1 1 0 1 0 1 1 1 1 1 1 1 1 1 1 1 1 1 0 0 1 0 1 0 1 1 0 1 0 1 1 0 0 1 1 1 1 1 1 0 0 0 1 1 0 1 0 0 \n",
      "\n",
      "- Поколение 4: Макс. приспособленность = 74.0, Средняя приспособленность =  64.355\n",
      "Лучший индивидуум =  0 1 1 1 1 1 1 1 0 1 0 0 0 0 1 1 1 1 1 0 0 1 1 1 1 1 1 0 1 0 1 1 0 1 1 1 0 0 1 1 1 1 0 0 1 1 1 0 1 0 1 1 1 0 1 1 1 1 1 1 1 1 0 1 1 1 1 1 1 1 1 1 1 1 1 1 1 0 1 1 0 0 1 1 1 1 0 0 0 1 1 1 1 1 1 1 1 1 0 1 \n",
      "\n",
      "- Поколение 5: Макс. приспособленность = 76.0, Средняя приспособленность =  66.945\n",
      "Лучший индивидуум =  1 1 1 1 1 1 1 1 0 1 0 0 0 0 1 1 1 1 1 0 0 1 1 1 1 1 1 0 1 0 1 1 0 1 1 1 1 1 0 1 0 1 0 1 1 1 1 0 1 0 1 1 1 0 1 1 1 1 1 1 1 1 0 1 1 1 1 1 1 1 1 1 1 1 1 1 1 0 1 1 0 0 1 1 1 1 0 0 0 1 1 1 1 1 1 1 1 1 0 1 \n",
      "\n",
      "- Поколение 6: Макс. приспособленность = 78.0, Средняя приспособленность =  69.3\n",
      "Лучший индивидуум =  1 1 1 1 1 1 0 1 0 1 1 1 1 0 1 0 1 0 0 1 1 1 0 1 1 1 1 1 1 1 1 1 0 1 1 0 0 1 0 1 0 1 1 1 1 0 1 1 0 1 0 1 0 1 1 1 0 0 1 1 1 1 1 1 1 1 1 1 1 1 1 1 1 1 1 1 1 1 1 1 1 0 1 0 0 1 1 1 1 1 1 1 0 1 1 1 1 1 1 1 \n",
      "\n",
      "- Поколение 7: Макс. приспособленность = 79.0, Средняя приспособленность =  71.87\n",
      "Лучший индивидуум =  1 1 1 0 1 0 1 0 1 1 1 1 1 0 0 1 1 1 1 1 1 0 1 1 0 0 1 1 1 1 1 1 0 1 1 1 0 0 1 1 1 1 1 1 1 1 1 1 0 0 1 0 1 1 0 1 0 1 1 1 1 1 0 1 1 1 1 1 1 1 1 1 1 1 1 1 1 1 1 1 1 0 1 0 0 1 1 1 1 1 1 1 0 1 1 1 1 1 1 1 \n",
      "\n",
      "- Поколение 8: Макс. приспособленность = 80.0, Средняя приспособленность =  74.11\n",
      "Лучший индивидуум =  1 1 1 1 1 1 0 1 0 1 1 1 1 0 1 0 1 0 0 1 1 1 0 1 1 1 1 1 1 1 1 1 0 1 1 1 0 1 0 1 1 1 0 0 1 1 1 0 1 0 1 1 1 0 1 1 1 1 1 1 1 1 0 1 1 1 1 1 1 1 1 1 1 1 1 1 1 1 1 1 1 0 1 0 0 1 1 1 1 1 1 1 0 1 1 1 1 1 1 1 \n",
      "\n",
      "- Поколение 9: Макс. приспособленность = 81.0, Средняя приспособленность =  76.255\n",
      "Лучший индивидуум =  1 1 1 1 1 0 1 0 0 1 1 0 0 1 1 0 1 1 1 1 1 1 1 1 1 1 1 1 1 1 1 1 0 1 1 1 0 1 0 1 1 1 0 0 1 1 1 0 1 0 1 1 1 0 1 1 1 1 1 1 1 1 0 1 1 1 1 1 1 1 1 1 1 1 1 1 1 1 1 1 1 0 1 0 0 1 1 1 1 1 1 1 0 1 1 1 1 1 1 1 \n",
      "\n",
      "- Поколение 10: Макс. приспособленность = 84.0, Средняя приспособленность =  77.94\n",
      "Лучший индивидуум =  1 1 1 1 1 1 0 1 0 1 1 1 1 0 1 1 1 1 1 0 0 1 1 1 1 1 1 1 1 1 1 0 1 0 1 1 1 1 1 0 1 0 1 1 1 1 1 1 1 1 1 1 1 1 1 1 1 1 0 1 0 1 0 1 1 1 1 1 1 1 1 1 1 1 1 1 1 1 1 1 1 0 1 0 0 1 1 1 1 1 1 1 0 1 1 1 1 1 1 1 \n",
      "\n",
      "- Поколение 11: Макс. приспособленность = 86.0, Средняя приспособленность =  79.41\n",
      "Лучший индивидуум =  1 1 1 1 1 1 0 1 0 1 1 1 1 0 1 1 1 1 1 0 0 1 1 1 1 1 1 1 1 1 1 0 1 0 1 1 1 1 1 0 1 0 1 1 1 1 1 1 1 1 1 1 1 1 1 1 1 1 1 1 1 1 0 1 1 1 1 1 1 1 1 1 1 1 1 1 1 0 1 1 0 0 1 1 1 1 1 1 1 1 1 1 0 1 1 1 1 1 1 1 \n",
      "\n",
      "- Поколение 12: Макс. приспособленность = 87.0, Средняя приспособленность =  81.12\n",
      "Лучший индивидуум =  1 1 1 1 1 1 1 1 0 1 1 1 1 0 1 1 1 1 1 0 0 1 1 1 1 1 1 1 1 1 1 0 1 0 1 1 1 1 1 0 1 0 1 1 1 1 1 1 1 1 1 1 1 1 1 1 1 1 1 1 1 1 0 1 1 1 1 1 1 1 1 1 1 1 1 1 1 0 1 1 0 0 1 1 1 1 1 1 1 1 1 1 0 1 1 1 1 1 1 1 \n",
      "\n",
      "- Поколение 13: Макс. приспособленность = 89.0, Средняя приспособленность =  82.55\n",
      "Лучший индивидуум =  1 1 1 1 1 1 1 1 0 1 1 1 1 0 1 1 1 1 1 0 0 1 1 1 1 1 1 1 1 1 1 0 1 0 1 1 1 1 1 0 1 0 1 1 1 1 1 1 1 1 1 1 1 1 1 1 1 1 1 1 1 1 0 1 1 1 1 1 1 1 1 1 1 1 1 1 1 1 1 1 1 0 1 1 1 1 1 1 1 1 1 1 0 1 1 1 1 1 1 1 \n",
      "\n",
      "- Поколение 14: Макс. приспособленность = 89.0, Средняя приспособленность =  83.85\n",
      "Лучший индивидуум =  1 1 1 1 1 1 1 1 0 1 1 1 1 0 1 1 1 1 1 0 0 1 1 1 1 1 1 1 1 1 1 0 1 0 1 1 1 1 1 0 1 0 1 1 1 1 1 1 1 1 1 1 1 1 1 1 1 1 1 1 1 1 0 1 1 1 1 1 1 1 1 1 1 1 1 1 1 1 1 1 1 0 1 1 1 1 1 1 1 1 1 1 0 1 1 1 1 1 1 1 \n",
      "\n",
      "- Поколение 15: Макс. приспособленность = 90.0, Средняя приспособленность =  85.42\n",
      "Лучший индивидуум =  1 1 1 1 1 0 1 0 1 1 1 0 0 1 1 1 1 1 1 1 1 1 1 1 1 1 1 1 1 1 1 1 0 1 1 1 1 1 1 1 1 1 0 0 1 1 1 1 1 1 1 1 1 1 1 1 1 1 1 1 1 1 0 1 1 1 1 1 1 1 1 1 1 1 1 1 1 1 1 1 1 0 1 1 1 1 1 1 1 1 1 1 0 1 1 1 1 1 1 1 \n",
      "\n",
      "- Поколение 16: Макс. приспособленность = 91.0, Средняя приспособленность =  86.8\n",
      "Лучший индивидуум =  1 1 1 1 1 1 0 1 0 1 1 1 1 1 1 0 1 1 1 1 1 1 1 1 1 1 1 1 1 1 1 1 0 1 1 1 1 1 1 1 1 1 0 0 1 1 1 1 1 1 1 1 1 1 1 1 1 1 1 1 1 1 0 1 1 1 1 1 1 1 1 1 1 1 1 1 1 1 1 1 1 0 1 1 1 1 1 1 1 1 1 1 0 1 1 1 1 1 1 1 \n",
      "\n",
      "- Поколение 17: Макс. приспособленность = 91.0, Средняя приспособленность =  87.89\n",
      "Лучший индивидуум =  1 1 1 1 1 1 0 1 0 1 1 1 1 0 1 1 1 1 1 1 1 1 1 1 1 1 1 1 1 1 1 0 1 0 1 1 1 1 1 0 1 0 1 1 1 1 1 1 1 1 1 1 1 1 1 1 1 1 1 1 1 1 0 1 1 1 1 1 1 1 1 1 1 1 1 1 1 1 1 1 1 0 1 1 1 1 1 1 1 1 1 1 1 1 1 1 1 1 1 1 \n",
      "\n",
      "- Поколение 18: Макс. приспособленность = 92.0, Средняя приспособленность =  88.915\n",
      "Лучший индивидуум =  1 1 1 1 1 1 1 1 0 1 1 1 1 0 1 1 1 1 1 1 1 1 1 1 1 1 1 1 1 1 1 1 0 1 1 1 1 1 1 0 1 0 1 1 1 1 1 1 1 1 1 1 1 1 1 1 1 1 1 1 1 1 0 1 1 1 1 1 1 1 1 1 1 1 1 1 1 1 1 1 1 0 1 1 1 1 1 1 1 1 1 1 0 1 1 1 1 1 1 1 \n",
      "\n",
      "- Поколение 19: Макс. приспособленность = 93.0, Средняя приспособленность =  89.82\n",
      "Лучший индивидуум =  1 1 1 1 1 1 1 1 0 1 1 1 1 0 1 1 1 1 1 1 1 1 1 1 1 1 1 1 1 1 1 1 1 0 1 1 1 1 1 1 1 1 0 0 1 1 1 1 1 1 1 1 1 1 1 1 1 1 1 1 1 1 0 1 1 1 1 1 1 1 1 1 1 1 1 1 1 1 1 1 1 0 1 1 1 1 1 1 1 1 1 1 1 1 1 1 1 1 1 1 \n",
      "\n",
      "- Поколение 20: Макс. приспособленность = 93.0, Средняя приспособленность =  90.57\n",
      "Лучший индивидуум =  1 1 1 1 1 1 1 1 0 1 1 1 1 0 1 1 1 1 1 1 1 1 1 1 1 1 1 1 1 1 1 1 1 0 1 1 1 1 1 0 1 0 1 1 1 1 1 1 1 1 1 1 1 1 1 1 1 1 1 1 1 1 1 1 1 1 1 1 1 1 1 1 1 1 1 1 1 1 1 1 1 0 1 1 1 1 1 1 1 1 1 1 0 1 1 1 1 1 1 1 \n",
      "\n",
      "- Поколение 21: Макс. приспособленность = 94.0, Средняя приспособленность =  91.255\n",
      "Лучший индивидуум =  1 1 1 1 1 1 1 1 0 1 1 1 1 0 1 1 1 1 1 1 1 1 1 1 1 1 1 1 1 1 1 1 1 0 1 1 1 1 1 0 1 0 1 1 1 1 1 1 1 1 1 1 1 1 1 1 1 1 1 1 1 1 1 1 1 1 1 1 1 1 1 1 1 1 1 1 1 1 1 1 1 0 1 1 1 1 1 1 1 1 1 1 1 1 1 1 1 1 1 1 \n",
      "\n",
      "- Поколение 22: Макс. приспособленность = 94.0, Средняя приспособленность =  92.04\n",
      "Лучший индивидуум =  1 1 1 1 1 1 1 1 0 1 1 1 1 0 1 1 1 1 1 1 1 1 1 1 1 1 1 1 1 1 1 1 1 0 1 1 1 1 1 0 1 0 1 1 1 1 1 1 1 1 1 1 1 1 1 1 1 1 1 1 1 1 1 1 1 1 1 1 1 1 1 1 1 1 1 1 1 1 1 1 1 0 1 1 1 1 1 1 1 1 1 1 1 1 1 1 1 1 1 1 \n",
      "\n",
      "- Поколение 23: Макс. приспособленность = 95.0, Средняя приспособленность =  92.6\n",
      "Лучший индивидуум =  1 1 1 1 1 1 0 1 0 1 1 1 1 1 1 0 1 1 1 1 1 1 1 1 1 1 1 1 1 1 1 1 1 1 1 1 1 1 1 1 1 1 1 1 1 1 1 1 1 1 1 1 1 1 1 1 1 1 1 1 1 1 0 1 1 1 1 1 1 1 1 1 1 1 1 1 1 1 1 1 1 0 1 1 1 1 1 1 1 1 1 1 1 1 1 1 1 1 1 1 \n",
      "\n",
      "- Поколение 24: Макс. приспособленность = 96.0, Средняя приспособленность =  93.12\n",
      "Лучший индивидуум =  1 1 1 1 1 1 1 1 0 1 1 1 1 0 1 1 1 1 1 1 1 1 1 1 1 1 1 1 1 1 1 1 1 0 1 1 1 1 1 1 1 1 1 1 1 1 1 1 1 1 1 1 1 1 1 1 1 1 1 1 1 1 1 1 1 1 1 1 1 1 1 1 1 1 1 1 1 1 1 1 1 0 1 1 1 1 1 1 1 1 1 1 1 1 1 1 1 1 1 1 \n",
      "\n",
      "- Поколение 25: Макс. приспособленность = 96.0, Средняя приспособленность =  93.64\n",
      "Лучший индивидуум =  1 1 1 1 1 1 1 1 0 1 1 1 1 0 1 1 1 1 1 1 1 1 1 1 1 1 1 1 1 1 1 1 1 0 1 1 1 1 1 1 1 1 1 1 1 1 1 1 1 1 1 1 1 1 1 1 1 1 1 1 1 1 1 1 1 1 1 1 1 1 1 1 1 1 1 1 1 1 1 1 1 0 1 1 1 1 1 1 1 1 1 1 1 1 1 1 1 1 1 1 \n",
      "\n",
      "- Поколение 26: Макс. приспособленность = 96.0, Средняя приспособленность =  94.205\n",
      "Лучший индивидуум =  1 1 1 1 1 1 1 1 0 1 1 1 1 0 1 1 1 1 1 1 1 1 1 1 1 1 1 1 1 1 1 1 1 0 1 1 1 1 1 1 1 1 1 1 1 1 1 1 1 1 1 1 1 1 1 1 1 1 1 1 1 1 1 1 1 1 1 1 1 1 1 1 1 1 1 1 1 1 1 1 1 0 1 1 1 1 1 1 1 1 1 1 1 1 1 1 1 1 1 1 \n",
      "\n",
      "- Поколение 27: Макс. приспособленность = 96.0, Средняя приспособленность =  94.745\n",
      "Лучший индивидуум =  1 1 1 1 1 1 1 1 0 1 1 1 1 0 1 1 1 1 1 1 1 1 1 1 1 1 1 1 1 1 1 1 1 1 1 1 1 1 1 1 1 1 1 1 1 1 1 1 1 1 1 1 1 1 1 1 1 1 1 1 1 1 0 1 1 1 1 1 1 1 1 1 1 1 1 1 1 1 1 1 1 0 1 1 1 1 1 1 1 1 1 1 1 1 1 1 1 1 1 1 \n",
      "\n",
      "- Поколение 28: Макс. приспособленность = 97.0, Средняя приспособленность =  95.3\n",
      "Лучший индивидуум =  1 1 1 1 1 1 1 1 0 1 1 1 1 0 1 1 1 1 1 1 1 1 1 1 1 1 1 1 1 1 1 1 1 1 1 1 1 1 1 1 1 1 1 1 1 1 1 1 1 1 1 1 1 1 1 1 1 1 1 1 1 1 1 1 1 1 1 1 1 1 1 1 1 1 1 1 1 1 1 1 1 0 1 1 1 1 1 1 1 1 1 1 1 1 1 1 1 1 1 1 \n",
      "\n",
      "- Поколение 29: Макс. приспособленность = 97.0, Средняя приспособленность =  95.865\n",
      "Лучший индивидуум =  1 1 1 1 1 1 1 1 0 1 1 1 1 0 1 1 1 1 1 1 1 1 1 1 1 1 1 1 1 1 1 1 1 1 1 1 1 1 1 0 1 1 1 1 1 1 1 1 1 1 1 1 1 1 1 1 1 1 1 1 1 1 1 1 1 1 1 1 1 1 1 1 1 1 1 1 1 1 1 1 1 1 1 1 1 1 1 1 1 1 1 1 1 1 1 1 1 1 1 1 \n",
      "\n",
      "- Поколение 30: Макс. приспособленность = 98.0, Средняя приспособленность =  96.265\n",
      "Лучший индивидуум =  1 1 1 1 1 1 1 1 0 1 1 1 1 0 1 1 1 1 1 1 1 1 1 1 1 1 1 1 1 1 1 1 1 1 1 1 1 1 1 1 1 1 1 1 1 1 1 1 1 1 1 1 1 1 1 1 1 1 1 1 1 1 1 1 1 1 1 1 1 1 1 1 1 1 1 1 1 1 1 1 1 1 1 1 1 1 1 1 1 1 1 1 1 1 1 1 1 1 1 1 \n",
      "\n",
      "- Поколение 31: Макс. приспособленность = 98.0, Средняя приспособленность =  96.68\n",
      "Лучший индивидуум =  1 1 1 1 1 1 1 1 0 1 1 1 1 0 1 1 1 1 1 1 1 1 1 1 1 1 1 1 1 1 1 1 1 1 1 1 1 1 1 1 1 1 1 1 1 1 1 1 1 1 1 1 1 1 1 1 1 1 1 1 1 1 1 1 1 1 1 1 1 1 1 1 1 1 1 1 1 1 1 1 1 1 1 1 1 1 1 1 1 1 1 1 1 1 1 1 1 1 1 1 \n",
      "\n",
      "- Поколение 32: Макс. приспособленность = 98.0, Средняя приспособленность =  97.005\n",
      "Лучший индивидуум =  1 1 1 1 1 1 1 1 0 1 1 1 1 0 1 1 1 1 1 1 1 1 1 1 1 1 1 1 1 1 1 1 1 1 1 1 1 1 1 1 1 1 1 1 1 1 1 1 1 1 1 1 1 1 1 1 1 1 1 1 1 1 1 1 1 1 1 1 1 1 1 1 1 1 1 1 1 1 1 1 1 1 1 1 1 1 1 1 1 1 1 1 1 1 1 1 1 1 1 1 \n",
      "\n",
      "- Поколение 33: Макс. приспособленность = 99.0, Средняя приспособленность =  97.425\n",
      "Лучший индивидуум =  1 1 1 1 1 1 1 1 1 1 1 1 1 0 1 1 1 1 1 1 1 1 1 1 1 1 1 1 1 1 1 1 1 1 1 1 1 1 1 1 1 1 1 1 1 1 1 1 1 1 1 1 1 1 1 1 1 1 1 1 1 1 1 1 1 1 1 1 1 1 1 1 1 1 1 1 1 1 1 1 1 1 1 1 1 1 1 1 1 1 1 1 1 1 1 1 1 1 1 1 \n",
      "\n"
     ]
    },
    {
     "name": "stdout",
     "output_type": "stream",
     "text": [
      "- Поколение 34: Макс. приспособленность = 99.0, Средняя приспособленность =  97.835\n",
      "Лучший индивидуум =  1 1 1 1 1 1 1 1 1 1 1 1 1 0 1 1 1 1 1 1 1 1 1 1 1 1 1 1 1 1 1 1 1 1 1 1 1 1 1 1 1 1 1 1 1 1 1 1 1 1 1 1 1 1 1 1 1 1 1 1 1 1 1 1 1 1 1 1 1 1 1 1 1 1 1 1 1 1 1 1 1 1 1 1 1 1 1 1 1 1 1 1 1 1 1 1 1 1 1 1 \n",
      "\n",
      "- Поколение 35: Макс. приспособленность = 99.0, Средняя приспособленность =  98.02\n",
      "Лучший индивидуум =  1 1 1 1 1 1 1 1 1 1 1 1 1 0 1 1 1 1 1 1 1 1 1 1 1 1 1 1 1 1 1 1 1 1 1 1 1 1 1 1 1 1 1 1 1 1 1 1 1 1 1 1 1 1 1 1 1 1 1 1 1 1 1 1 1 1 1 1 1 1 1 1 1 1 1 1 1 1 1 1 1 1 1 1 1 1 1 1 1 1 1 1 1 1 1 1 1 1 1 1 \n",
      "\n",
      "- Поколение 36: Макс. приспособленность = 99.0, Средняя приспособленность =  98.345\n",
      "Лучший индивидуум =  1 1 1 1 1 1 1 1 1 1 1 1 1 0 1 1 1 1 1 1 1 1 1 1 1 1 1 1 1 1 1 1 1 1 1 1 1 1 1 1 1 1 1 1 1 1 1 1 1 1 1 1 1 1 1 1 1 1 1 1 1 1 1 1 1 1 1 1 1 1 1 1 1 1 1 1 1 1 1 1 1 1 1 1 1 1 1 1 1 1 1 1 1 1 1 1 1 1 1 1 \n",
      "\n",
      "- Поколение 37: Макс. приспособленность = 99.0, Средняя приспособленность =  98.76\n",
      "Лучший индивидуум =  1 1 1 1 1 1 1 1 1 1 1 1 1 0 1 1 1 1 1 1 1 1 1 1 1 1 1 1 1 1 1 1 1 1 1 1 1 1 1 1 1 1 1 1 1 1 1 1 1 1 1 1 1 1 1 1 1 1 1 1 1 1 1 1 1 1 1 1 1 1 1 1 1 1 1 1 1 1 1 1 1 1 1 1 1 1 1 1 1 1 1 1 1 1 1 1 1 1 1 1 \n",
      "\n",
      "- Поколение 38: Макс. приспособленность = 99.0, Средняя приспособленность =  98.905\n",
      "Лучший индивидуум =  1 1 1 1 1 1 1 1 1 1 1 1 1 0 1 1 1 1 1 1 1 1 1 1 1 1 1 1 1 1 1 1 1 1 1 1 1 1 1 1 1 1 1 1 1 1 1 1 1 1 1 1 1 1 1 1 1 1 1 1 1 1 1 1 1 1 1 1 1 1 1 1 1 1 1 1 1 1 1 1 1 1 1 1 1 1 1 1 1 1 1 1 1 1 1 1 1 1 1 1 \n",
      "\n",
      "- Поколение 39: Макс. приспособленность = 99.0, Средняя приспособленность =  98.845\n",
      "Лучший индивидуум =  1 1 1 1 1 1 1 1 1 1 1 1 1 0 1 1 1 1 1 1 1 1 1 1 1 1 1 1 1 1 1 1 1 1 1 1 1 1 1 1 1 1 1 1 1 1 1 1 1 1 1 1 1 1 1 1 1 1 1 1 1 1 1 1 1 1 1 1 1 1 1 1 1 1 1 1 1 1 1 1 1 1 1 1 1 1 1 1 1 1 1 1 1 1 1 1 1 1 1 1 \n",
      "\n",
      "- Поколение 40: Макс. приспособленность = 99.0, Средняя приспособленность =  98.895\n",
      "Лучший индивидуум =  1 1 1 1 1 1 1 1 1 1 1 1 1 0 1 1 1 1 1 1 1 1 1 1 1 1 1 1 1 1 1 1 1 1 1 1 1 1 1 1 1 1 1 1 1 1 1 1 1 1 1 1 1 1 1 1 1 1 1 1 1 1 1 1 1 1 1 1 1 1 1 1 1 1 1 1 1 1 1 1 1 1 1 1 1 1 1 1 1 1 1 1 1 1 1 1 1 1 1 1 \n",
      "\n",
      "- Поколение 41: Макс. приспособленность = 99.0, Средняя приспособленность =  98.9\n",
      "Лучший индивидуум =  1 1 1 1 1 1 1 1 1 1 1 1 1 0 1 1 1 1 1 1 1 1 1 1 1 1 1 1 1 1 1 1 1 1 1 1 1 1 1 1 1 1 1 1 1 1 1 1 1 1 1 1 1 1 1 1 1 1 1 1 1 1 1 1 1 1 1 1 1 1 1 1 1 1 1 1 1 1 1 1 1 1 1 1 1 1 1 1 1 1 1 1 1 1 1 1 1 1 1 1 \n",
      "\n",
      "- Поколение 42: Макс. приспособленность = 99.0, Средняя приспособленность =  98.855\n",
      "Лучший индивидуум =  1 1 1 1 1 1 1 1 1 1 1 1 1 0 1 1 1 1 1 1 1 1 1 1 1 1 1 1 1 1 1 1 1 1 1 1 1 1 1 1 1 1 1 1 1 1 1 1 1 1 1 1 1 1 1 1 1 1 1 1 1 1 1 1 1 1 1 1 1 1 1 1 1 1 1 1 1 1 1 1 1 1 1 1 1 1 1 1 1 1 1 1 1 1 1 1 1 1 1 1 \n",
      "\n",
      "- Поколение 43: Макс. приспособленность = 99.0, Средняя приспособленность =  98.94\n",
      "Лучший индивидуум =  1 1 1 1 1 1 1 1 1 1 1 1 1 0 1 1 1 1 1 1 1 1 1 1 1 1 1 1 1 1 1 1 1 1 1 1 1 1 1 1 1 1 1 1 1 1 1 1 1 1 1 1 1 1 1 1 1 1 1 1 1 1 1 1 1 1 1 1 1 1 1 1 1 1 1 1 1 1 1 1 1 1 1 1 1 1 1 1 1 1 1 1 1 1 1 1 1 1 1 1 \n",
      "\n",
      "- Поколение 44: Макс. приспособленность = 99.0, Средняя приспособленность =  98.915\n",
      "Лучший индивидуум =  1 1 1 1 1 1 1 1 1 1 1 1 1 0 1 1 1 1 1 1 1 1 1 1 1 1 1 1 1 1 1 1 1 1 1 1 1 1 1 1 1 1 1 1 1 1 1 1 1 1 1 1 1 1 1 1 1 1 1 1 1 1 1 1 1 1 1 1 1 1 1 1 1 1 1 1 1 1 1 1 1 1 1 1 1 1 1 1 1 1 1 1 1 1 1 1 1 1 1 1 \n",
      "\n",
      "- Поколение 45: Макс. приспособленность = 99.0, Средняя приспособленность =  98.9\n",
      "Лучший индивидуум =  1 1 1 1 1 1 1 1 1 1 1 1 1 0 1 1 1 1 1 1 1 1 1 1 1 1 1 1 1 1 1 1 1 1 1 1 1 1 1 1 1 1 1 1 1 1 1 1 1 1 1 1 1 1 1 1 1 1 1 1 1 1 1 1 1 1 1 1 1 1 1 1 1 1 1 1 1 1 1 1 1 1 1 1 1 1 1 1 1 1 1 1 1 1 1 1 1 1 1 1 \n",
      "\n",
      "- Поколение 46: Макс. приспособленность = 99.0, Средняя приспособленность =  98.9\n",
      "Лучший индивидуум =  1 1 1 1 1 1 1 1 1 1 1 1 1 0 1 1 1 1 1 1 1 1 1 1 1 1 1 1 1 1 1 1 1 1 1 1 1 1 1 1 1 1 1 1 1 1 1 1 1 1 1 1 1 1 1 1 1 1 1 1 1 1 1 1 1 1 1 1 1 1 1 1 1 1 1 1 1 1 1 1 1 1 1 1 1 1 1 1 1 1 1 1 1 1 1 1 1 1 1 1 \n",
      "\n",
      "- Поколение 47: Макс. приспособленность = 99.0, Средняя приспособленность =  98.93\n",
      "Лучший индивидуум =  1 1 1 1 1 1 1 1 1 1 1 1 1 0 1 1 1 1 1 1 1 1 1 1 1 1 1 1 1 1 1 1 1 1 1 1 1 1 1 1 1 1 1 1 1 1 1 1 1 1 1 1 1 1 1 1 1 1 1 1 1 1 1 1 1 1 1 1 1 1 1 1 1 1 1 1 1 1 1 1 1 1 1 1 1 1 1 1 1 1 1 1 1 1 1 1 1 1 1 1 \n",
      "\n",
      "- Поколение 48: Макс. приспособленность = 99.0, Средняя приспособленность =  98.86\n",
      "Лучший индивидуум =  1 1 1 1 1 1 1 1 1 1 1 1 1 0 1 1 1 1 1 1 1 1 1 1 1 1 1 1 1 1 1 1 1 1 1 1 1 1 1 1 1 1 1 1 1 1 1 1 1 1 1 1 1 1 1 1 1 1 1 1 1 1 1 1 1 1 1 1 1 1 1 1 1 1 1 1 1 1 1 1 1 1 1 1 1 1 1 1 1 1 1 1 1 1 1 1 1 1 1 1 \n",
      "\n",
      "- Поколение 49: Макс. приспособленность = 99.0, Средняя приспособленность =  98.925\n",
      "Лучший индивидуум =  1 1 1 1 1 1 1 1 1 1 1 1 1 0 1 1 1 1 1 1 1 1 1 1 1 1 1 1 1 1 1 1 1 1 1 1 1 1 1 1 1 1 1 1 1 1 1 1 1 1 1 1 1 1 1 1 1 1 1 1 1 1 1 1 1 1 1 1 1 1 1 1 1 1 1 1 1 1 1 1 1 1 1 1 1 1 1 1 1 1 1 1 1 1 1 1 1 1 1 1 \n",
      "\n",
      "- Поколение 50: Макс. приспособленность = 99.0, Средняя приспособленность =  98.84\n",
      "Лучший индивидуум =  1 1 1 1 1 1 1 1 1 1 1 1 1 0 1 1 1 1 1 1 1 1 1 1 1 1 1 1 1 1 1 1 1 1 1 1 1 1 1 1 1 1 1 1 1 1 1 1 1 1 1 1 1 1 1 1 1 1 1 1 1 1 1 1 1 1 1 1 1 1 1 1 1 1 1 1 1 1 1 1 1 1 1 1 1 1 1 1 1 1 1 1 1 1 1 1 1 1 1 1 \n",
      "\n"
     ]
    }
   ],
   "source": [
    "def main():\n",
    "    population = toolbox.populationCreator(n=POPULATION_SIZE)\n",
    "    generationCounter = 0\n",
    "    \n",
    "    fitnessValues = list(map(toolbox.evaulate, population))\n",
    "    \n",
    "    for individual, fitnessValue in zip(population, fitnessValues):\n",
    "        individual.fitness.values= fitnessValue\n",
    "        \n",
    "    fitnessValues = [individual.fitness.values[0] for individual in population]\n",
    "    \n",
    "    maxFitnessValues = []\n",
    "    meanFitnessValues = []\n",
    "    \n",
    "    while max(fitnessValues) < ONE_TO_MAX_LENGTH and generationCounter < MAX_GENERATIONS:\n",
    "        generationCounter = generationCounter + 1\n",
    "        \n",
    "        offspring = toolbox.select(population, len(population))\n",
    "        \n",
    "        offspring = list(map(toolbox.clone, offspring))\n",
    "        \n",
    "        for child1, child2 in zip(offspring[::2],offspring[1::2]):\n",
    "            if random.random() < P_CROSSOVER:\n",
    "                toolbox.mate(child1, child2)\n",
    "                del child1.fitness.values\n",
    "                del child2.fitness.values\n",
    "                \n",
    "        for mutant in offspring:\n",
    "            if random.random() < P_MUTATION:\n",
    "                toolbox.mutate(mutant)\n",
    "                del mutant.fitness.values\n",
    "                \n",
    "        freshIndividuals = [ind for ind in offspring if not ind.fitness.valid]\n",
    "        freshFitnessValues = list(map(toolbox.evaulate, freshIndividuals))\n",
    "        for individual, fitnessValue in zip(freshIndividuals, freshFitnessValues):\n",
    "            individual.fitness.values = fitnessValue\n",
    "            \n",
    "        population[:]= offspring\n",
    "        \n",
    "        fitnessValues = [ind.fitness.values[0] for ind in population]\n",
    "        \n",
    "        maxFitness = max(fitnessValues)\n",
    "        meanFitness = sum(fitnessValues) / len(population)\n",
    "        maxFitnessValues.append(maxFitness)\n",
    "        meanFitnessValues.append(meanFitness)\n",
    "        print(\"- Поколение {}: Макс. приспособленность = {}, Средняя приспособленность =  {}\".\n",
    "             format(generationCounter,maxFitness, meanFitness))\n",
    "        \n",
    "        best_index = fitnessValues.index(max(fitnessValues))\n",
    "        print(\"Лучший индивидуум = \", *population[best_index], \"\\n\")"
   ]
  },
  {
   "cell_type": "code",
   "execution_count": 19,
   "id": "d094e84b",
   "metadata": {},
   "outputs": [
    {
     "data": {
      "image/png": "[encoded data removed]",
      "text/plain": [
       "<Figure size 640x480 with 1 Axes>"
      ]
     },
     "metadata": {},
     "output_type": "display_data"
    }
   ],
   "source": [
    "plt.plot(maxFitnessValues, color='red')\n",
    "plt.plot(meanFitnessValues, color = \"green\")\n",
    "plt.xlabel('Поколение')\n",
    "plt.ylabel('Макс/средняя приспособленность')\n",
    "plt.title('Зависимость максимальной и средней приспособленности от поколения')\n",
    "plt.show()"
   ]
  }
 ],
 "metadata": {
  "kernelspec": {
   "display_name": "Omar",
   "language": "python",
   "name": "omar"
  },
  "language_info": {
   "codemirror_mode": {
    "name": "ipython",
    "version": 3
   },
   "file_extension": ".py",
   "mimetype": "text/x-python",
   "name": "python",
   "nbconvert_exporter": "python",
   "pygments_lexer": "ipython3",
   "version": "3.7.0"
  }
 },
 "nbformat": 4,
 "nbformat_minor": 5
}
