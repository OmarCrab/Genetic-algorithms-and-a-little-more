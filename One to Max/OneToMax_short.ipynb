{
 "cells": [
  {
   "cell_type": "code",
   "execution_count": 3,
   "id": "c7f15915",
   "metadata": {},
   "outputs": [],
   "source": [
    "#Установка нужных библиотек. Если таковые уже имеются, то можно пропустить или,\n",
    "#что лучше, проверить обновление библиотек"
   ]
  },
  {
   "cell_type": "code",
   "execution_count": 4,
   "id": "9f3ce10a",
   "metadata": {},
   "outputs": [
    {
     "name": "stdout",
     "output_type": "stream",
     "text": [
      "Requirement already satisfied: pip in c:\\users\\posit\\anaconda3\\lib\\site-packages (24.0)\n",
      "Requirement already satisfied: deap in c:\\object_detection\\tfodcourse\\omar\\lib\\site-packages (1.4.1)\n",
      "Requirement already satisfied: numpy in c:\\object_detection\\tfodcourse\\omar\\lib\\site-packages (from deap) (1.21.6)\n",
      "Note: you may need to restart the kernel to use updated packages.\n"
     ]
    },
    {
     "name": "stderr",
     "output_type": "stream",
     "text": [
      "\n",
      "[notice] A new release of pip is available: 23.3.1 -> 24.0\n",
      "[notice] To update, run: C:\\object_detection\\TFODCourse\\Omar\\Scripts\\python.exe -m pip install --upgrade pip\n"
     ]
    },
    {
     "name": "stdout",
     "output_type": "stream",
     "text": [
      "Requirement already satisfied: numpy in c:\\object_detection\\tfodcourse\\omar\\lib\\site-packages (1.21.6)Note: you may need to restart the kernel to use updated packages.\n",
      "\n"
     ]
    },
    {
     "name": "stderr",
     "output_type": "stream",
     "text": [
      "\n",
      "[notice] A new release of pip is available: 23.3.1 -> 24.0\n",
      "[notice] To update, run: C:\\object_detection\\TFODCourse\\Omar\\Scripts\\python.exe -m pip install --upgrade pip\n"
     ]
    },
    {
     "name": "stdout",
     "output_type": "stream",
     "text": [
      "Requirement already satisfied: seaborn in c:\\object_detection\\tfodcourse\\omar\\lib\\site-packages (0.12.2)\n",
      "Requirement already satisfied: numpy!=1.24.0,>=1.17 in c:\\object_detection\\tfodcourse\\omar\\lib\\site-packages (from seaborn) (1.21.6)\n",
      "Requirement already satisfied: pandas>=0.25 in c:\\object_detection\\tfodcourse\\omar\\lib\\site-packages (from seaborn) (1.1.5)\n",
      "Requirement already satisfied: matplotlib!=3.6.1,>=3.1 in c:\\object_detection\\tfodcourse\\omar\\lib\\site-packages (from seaborn) (3.5.3)\n",
      "Requirement already satisfied: typing_extensions in c:\\object_detection\\tfodcourse\\omar\\lib\\site-packages (from seaborn) (4.7.1)\n",
      "Requirement already satisfied: cycler>=0.10 in c:\\object_detection\\tfodcourse\\omar\\lib\\site-packages (from matplotlib!=3.6.1,>=3.1->seaborn) (0.11.0)\n",
      "Requirement already satisfied: fonttools>=4.22.0 in c:\\object_detection\\tfodcourse\\omar\\lib\\site-packages (from matplotlib!=3.6.1,>=3.1->seaborn) (4.38.0)\n",
      "Requirement already satisfied: kiwisolver>=1.0.1 in c:\\object_detection\\tfodcourse\\omar\\lib\\site-packages (from matplotlib!=3.6.1,>=3.1->seaborn) (1.4.5)\n",
      "Requirement already satisfied: packaging>=20.0 in c:\\object_detection\\tfodcourse\\omar\\lib\\site-packages (from matplotlib!=3.6.1,>=3.1->seaborn) (23.2)\n",
      "Requirement already satisfied: pillow>=6.2.0 in c:\\object_detection\\tfodcourse\\omar\\lib\\site-packages (from matplotlib!=3.6.1,>=3.1->seaborn) (9.5.0)\n",
      "Requirement already satisfied: pyparsing>=2.2.1 in c:\\object_detection\\tfodcourse\\omar\\lib\\site-packages (from matplotlib!=3.6.1,>=3.1->seaborn) (3.1.2)\n",
      "Requirement already satisfied: python-dateutil>=2.7 in c:\\object_detection\\tfodcourse\\omar\\lib\\site-packages (from matplotlib!=3.6.1,>=3.1->seaborn) (2.8.2)\n",
      "Requirement already satisfied: pytz>=2017.2 in c:\\object_detection\\tfodcourse\\omar\\lib\\site-packages (from pandas>=0.25->seaborn) (2024.1)\n",
      "Requirement already satisfied: six>=1.5 in c:\\object_detection\\tfodcourse\\omar\\lib\\site-packages (from python-dateutil>=2.7->matplotlib!=3.6.1,>=3.1->seaborn) (1.16.0)\n",
      "Note: you may need to restart the kernel to use updated packages.\n"
     ]
    },
    {
     "name": "stderr",
     "output_type": "stream",
     "text": [
      "\n",
      "[notice] A new release of pip is available: 23.3.1 -> 24.0\n",
      "[notice] To update, run: C:\\object_detection\\TFODCourse\\Omar\\Scripts\\python.exe -m pip install --upgrade pip\n"
     ]
    },
    {
     "name": "stdout",
     "output_type": "stream",
     "text": [
      "Requirement already satisfied: matplotlib in c:\\object_detection\\tfodcourse\\omar\\lib\\site-packages (3.5.3)\n",
      "Requirement already satisfied: cycler>=0.10 in c:\\object_detection\\tfodcourse\\omar\\lib\\site-packages (from matplotlib) (0.11.0)\n",
      "Requirement already satisfied: fonttools>=4.22.0 in c:\\object_detection\\tfodcourse\\omar\\lib\\site-packages (from matplotlib) (4.38.0)\n",
      "Requirement already satisfied: kiwisolver>=1.0.1 in c:\\object_detection\\tfodcourse\\omar\\lib\\site-packages (from matplotlib) (1.4.5)\n",
      "Requirement already satisfied: numpy>=1.17 in c:\\object_detection\\tfodcourse\\omar\\lib\\site-packages (from matplotlib) (1.21.6)\n",
      "Requirement already satisfied: packaging>=20.0 in c:\\object_detection\\tfodcourse\\omar\\lib\\site-packages (from matplotlib) (23.2)\n",
      "Requirement already satisfied: pillow>=6.2.0 in c:\\object_detection\\tfodcourse\\omar\\lib\\site-packages (from matplotlib) (9.5.0)\n",
      "Requirement already satisfied: pyparsing>=2.2.1 in c:\\object_detection\\tfodcourse\\omar\\lib\\site-packages (from matplotlib) (3.1.2)\n",
      "Requirement already satisfied: python-dateutil>=2.7 in c:\\object_detection\\tfodcourse\\omar\\lib\\site-packages (from matplotlib) (2.8.2)\n",
      "Requirement already satisfied: typing-extensions in c:\\object_detection\\tfodcourse\\omar\\lib\\site-packages (from kiwisolver>=1.0.1->matplotlib) (4.7.1)\n",
      "Requirement already satisfied: six>=1.5 in c:\\object_detection\\tfodcourse\\omar\\lib\\site-packages (from python-dateutil>=2.7->matplotlib) (1.16.0)\n",
      "Note: you may need to restart the kernel to use updated packages.\n"
     ]
    },
    {
     "name": "stderr",
     "output_type": "stream",
     "text": [
      "\n",
      "[notice] A new release of pip is available: 23.3.1 -> 24.0\n",
      "[notice] To update, run: C:\\object_detection\\TFODCourse\\Omar\\Scripts\\python.exe -m pip install --upgrade pip\n"
     ]
    }
   ],
   "source": [
    "!python.exe -m pip install --upgrade pip\n",
    "\n",
    "%pip install deap\n",
    "%pip install numpy\n",
    "%pip install seaborn\n",
    "%pip install matplotlib"
   ]
  },
  {
   "cell_type": "code",
   "execution_count": 5,
   "id": "dc65df99",
   "metadata": {},
   "outputs": [],
   "source": [
    "#Импорт всего, что нужно"
   ]
  },
  {
   "cell_type": "code",
   "execution_count": 28,
   "id": "282813f3",
   "metadata": {},
   "outputs": [],
   "source": [
    "from deap import creator, base, tools, algorithms\n",
    "import numpy\n",
    "import random\n",
    "import matplotlib.pyplot as plt"
   ]
  },
  {
   "cell_type": "code",
   "execution_count": 7,
   "id": "70609c51",
   "metadata": {},
   "outputs": [],
   "source": [
    "#Создадим некоторые константы для работы"
   ]
  },
  {
   "cell_type": "code",
   "execution_count": 29,
   "id": "51e9eea6",
   "metadata": {},
   "outputs": [],
   "source": [
    "#Константы задачи\n",
    "ONE_TO_MAX_LENGTH = 100\n",
    "\n",
    "#Константы Г.А.\n",
    "POPULATION_SIZE=200\n",
    "P_CROSSOVER=0.9\n",
    "P_MUTATION=0.1\n",
    "MAX_GENERATIONS=50"
   ]
  },
  {
   "cell_type": "code",
   "execution_count": 9,
   "id": "06baf3ab",
   "metadata": {},
   "outputs": [],
   "source": [
    "#Сделаем генератор случайных чисел, чтобы внести щепотку хаоса в эту кашу"
   ]
  },
  {
   "cell_type": "code",
   "execution_count": 31,
   "id": "8e571b58",
   "metadata": {},
   "outputs": [],
   "source": [
    "RANDOM_SEED = random.randint(0,100)\n",
    "random.seed(RANDOM_SEED)"
   ]
  },
  {
   "cell_type": "code",
   "execution_count": null,
   "id": "314b0bf3",
   "metadata": {},
   "outputs": [],
   "source": [
    "#Сделаем функцию генерации случайных чисел в лист, заполняя его "
   ]
  },
  {
   "cell_type": "code",
   "execution_count": 32,
   "id": "95413176",
   "metadata": {},
   "outputs": [],
   "source": [
    "toolbox = base.Toolbox()\n",
    "toolbox.register(\"zerotoOne\", random.randint,0,1)"
   ]
  },
  {
   "cell_type": "code",
   "execution_count": null,
   "id": "c5943a74",
   "metadata": {},
   "outputs": [],
   "source": [
    "#Создаём класс FitnessMax"
   ]
  },
  {
   "cell_type": "code",
   "execution_count": 33,
   "id": "b0b4d73e",
   "metadata": {},
   "outputs": [
    {
     "name": "stderr",
     "output_type": "stream",
     "text": [
      "C:\\object_detection\\TFODCourse\\Omar\\lib\\site-packages\\deap\\creator.py:188: RuntimeWarning: A class named 'FitnessMax' has already been created and it will be overwritten. Consider deleting previous creation of that class or rename it.\n",
      "  RuntimeWarning)\n"
     ]
    }
   ],
   "source": [
    "creator.create(\"FitnessMax\", base.Fitness, weights=(1.0,))"
   ]
  },
  {
   "cell_type": "code",
   "execution_count": null,
   "id": "f8c7f446",
   "metadata": {},
   "outputs": [],
   "source": [
    "#Создаём класс индивидуума для работы"
   ]
  },
  {
   "cell_type": "code",
   "execution_count": 34,
   "id": "849f7850",
   "metadata": {},
   "outputs": [
    {
     "name": "stderr",
     "output_type": "stream",
     "text": [
      "C:\\object_detection\\TFODCourse\\Omar\\lib\\site-packages\\deap\\creator.py:188: RuntimeWarning: A class named 'Individual' has already been created and it will be overwritten. Consider deleting previous creation of that class or rename it.\n",
      "  RuntimeWarning)\n"
     ]
    }
   ],
   "source": [
    "creator.create(\"Individual\", list, fitness=creator.FitnessMax)"
   ]
  },
  {
   "cell_type": "code",
   "execution_count": null,
   "id": "1f6c29f1",
   "metadata": {},
   "outputs": [],
   "source": [
    "#После чего создаём экземпляры этого класса"
   ]
  },
  {
   "cell_type": "code",
   "execution_count": 37,
   "id": "8720dea2",
   "metadata": {},
   "outputs": [],
   "source": [
    "toolbox.register(\"individualCreator\", tools.initRepeat, \n",
    "                 creator.Individual, toolbox.zerotoOne, ONE_TO_MAX_LENGTH)"
   ]
  },
  {
   "cell_type": "code",
   "execution_count": null,
   "id": "3332e349",
   "metadata": {},
   "outputs": [],
   "source": [
    "#И, наконец, создаём популяцию дебилов"
   ]
  },
  {
   "cell_type": "code",
   "execution_count": 38,
   "id": "e7060850",
   "metadata": {},
   "outputs": [],
   "source": [
    "toolbox.register(\"populationCreator\",tools.initRepeat,\n",
    "                list, toolbox.individualCreator)"
   ]
  },
  {
   "cell_type": "code",
   "execution_count": null,
   "id": "05a4ac71",
   "metadata": {},
   "outputs": [],
   "source": [
    "#Объявим функцию приспособленности и зарегистрируем её"
   ]
  },
  {
   "cell_type": "code",
   "execution_count": 43,
   "id": "63ada5d2",
   "metadata": {},
   "outputs": [],
   "source": [
    "def oneToMax(individual):\n",
    "    return sum(individual),\n",
    "\n",
    "toolbox.register(\"evaluate\", oneToMax)"
   ]
  },
  {
   "cell_type": "code",
   "execution_count": null,
   "id": "4b17e859",
   "metadata": {},
   "outputs": [],
   "source": [
    "#Объявим генетические операторы"
   ]
  },
  {
   "cell_type": "code",
   "execution_count": 40,
   "id": "b27b1f1d",
   "metadata": {},
   "outputs": [],
   "source": [
    "toolbox.register(\"select\",tools.selTournament,tournsize=3)\n",
    "toolbox.register(\"mate\",tools.cxOnePoint)\n",
    "toolbox.register(\"mutate\",tools.mutFlipBit, indpb=1.0/ONE_TO_MAX_LENGTH)"
   ]
  },
  {
   "cell_type": "code",
   "execution_count": null,
   "id": "ad324f68",
   "metadata": {},
   "outputs": [],
   "source": [
    "#ЭВОЛЮЦИЯ РЕШЕНИЯ"
   ]
  },
  {
   "cell_type": "code",
   "execution_count": 48,
   "id": "6050422e",
   "metadata": {},
   "outputs": [
    {
     "name": "stdout",
     "output_type": "stream",
     "text": [
      "gen\tnevals\tmax\tavg  \n",
      "0  \t200   \t66 \t49.61\n",
      "1  \t187   \t67 \t53.405\n",
      "2  \t182   \t71 \t57.17 \n",
      "3  \t178   \t70 \t60.865\n",
      "4  \t186   \t74 \t64.045\n",
      "5  \t186   \t76 \t66.92 \n",
      "6  \t178   \t77 \t69.53 \n",
      "7  \t179   \t80 \t71.66 \n",
      "8  \t181   \t81 \t73.915\n",
      "9  \t184   \t82 \t76.25 \n",
      "10 \t184   \t83 \t78.155\n",
      "11 \t187   \t85 \t79.77 \n",
      "12 \t182   \t87 \t81.61 \n",
      "13 \t183   \t90 \t83.285\n",
      "14 \t169   \t91 \t84.76 \n",
      "15 \t187   \t91 \t85.94 \n",
      "16 \t178   \t91 \t87.29 \n",
      "17 \t186   \t92 \t88.65 \n",
      "18 \t176   \t93 \t89.785\n",
      "19 \t188   \t94 \t90.965\n",
      "20 \t174   \t94 \t91.93 \n",
      "21 \t171   \t96 \t92.655\n",
      "22 \t181   \t96 \t93.34 \n",
      "23 \t187   \t97 \t94.115\n",
      "24 \t187   \t97 \t94.865\n",
      "25 \t183   \t98 \t95.625\n",
      "26 \t188   \t98 \t96.41 \n",
      "27 \t185   \t98 \t97.005\n",
      "28 \t180   \t99 \t97.555\n",
      "29 \t186   \t99 \t97.965\n",
      "30 \t172   \t100\t98.195\n",
      "31 \t176   \t100\t98.565\n",
      "32 \t185   \t100\t98.97 \n",
      "33 \t180   \t100\t99.055\n",
      "34 \t176   \t100\t99.255\n",
      "35 \t185   \t100\t99.625\n",
      "36 \t180   \t100\t99.895\n",
      "37 \t179   \t100\t99.865\n",
      "38 \t182   \t100\t99.895\n",
      "39 \t183   \t100\t99.885\n",
      "40 \t180   \t100\t99.905\n",
      "41 \t181   \t100\t99.925\n",
      "42 \t178   \t100\t99.9  \n",
      "43 \t186   \t100\t99.925\n",
      "44 \t181   \t100\t99.915\n",
      "45 \t176   \t100\t99.915\n",
      "46 \t181   \t100\t99.87 \n",
      "47 \t176   \t100\t99.88 \n",
      "48 \t173   \t100\t99.935\n",
      "49 \t192   \t100\t99.855\n",
      "50 \t183   \t100\t99.9  \n"
     ]
    },
    {
     "data": {
      "image/png": "[encoded data removed]",
      "text/plain": [
       "<Figure size 640x480 with 1 Axes>"
      ]
     },
     "metadata": {},
     "output_type": "display_data"
    }
   ],
   "source": [
    "def main():\n",
    "    \n",
    "    population = toolbox.populationCreator(n=POPULATION_SIZE)\n",
    "    \n",
    "    stats = tools.Statistics(lambda ind: ind.fitness.values)\n",
    "    \n",
    "    stats.register(\"max\", numpy.max)\n",
    "    stats.register(\"avg\", numpy.mean)\n",
    "    \n",
    "    population, logbook = algorithms.eaSimple(population,toolbox,\n",
    "                                             cxpb=P_CROSSOVER,\n",
    "                                             mutpb=P_MUTATION,\n",
    "                                             ngen=MAX_GENERATIONS,\n",
    "                                             stats=stats, verbose=True)\n",
    "    \n",
    "    maxFitnessValues, meanFitnessValues = logbook.select(\"max\", \"avg\")\n",
    "    \n",
    "    plt.plot(maxFitnessValues, color='red')\n",
    "    plt.plot(meanFitnessValues, color = \"green\")\n",
    "    plt.xlabel('Поколение')\n",
    "    plt.ylabel('Макс/средняя приспособленность')\n",
    "    plt.title('Зависимость максимальной и средней приспособленности от поколения')\n",
    "    plt.show()\n",
    "        \n",
    "     \n",
    "if __name__ == \"__main__\":\n",
    "    main()\n"
   ]
  }
 ],
 "metadata": {
  "kernelspec": {
   "display_name": "Omar",
   "language": "python",
   "name": "omar"
  },
  "language_info": {
   "codemirror_mode": {
    "name": "ipython",
    "version": 3
   },
   "file_extension": ".py",
   "mimetype": "text/x-python",
   "name": "python",
   "nbconvert_exporter": "python",
   "pygments_lexer": "ipython3",
   "version": "3.7.0"
  }
 },
 "nbformat": 4,
 "nbformat_minor": 5
}
