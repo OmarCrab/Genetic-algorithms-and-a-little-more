{
 "cells": [
  {
   "cell_type": "code",
   "execution_count": 7,
   "id": "45afb6af",
   "metadata": {},
   "outputs": [],
   "source": [
    "import csv\n",
    "import pickle\n",
    "import os\n",
    "import codecs\n",
    "import matplotlib.pyplot as plt\n",
    "import numpy as np\n",
    "from urllib.request import urlopen\n",
    "import random\n",
    "from deap import base, creator, tools, algorithms\n",
    "\n",
    "from Route import TravelingSalesmanProblem"
   ]
  },
  {
   "cell_type": "code",
   "execution_count": 6,
   "id": "2def7d61",
   "metadata": {},
   "outputs": [
    {
     "ename": "AttributeError",
     "evalue": "'builtin_function_or_method' object has no attribute 'seed'",
     "output_type": "error",
     "traceback": [
      "\u001b[1;31m---------------------------------------------------------------------------\u001b[0m",
      "\u001b[1;31mAttributeError\u001b[0m                            Traceback (most recent call last)",
      "\u001b[1;32m~\\AppData\\Local\\Temp\\ipykernel_3108\\4070548494.py\u001b[0m in \u001b[0;36m<module>\u001b[1;34m\u001b[0m\n\u001b[0;32m      7\u001b[0m \u001b[1;33m\u001b[0m\u001b[0m\n\u001b[0;32m      8\u001b[0m \u001b[0mRANDOM_SEED\u001b[0m \u001b[1;33m=\u001b[0m \u001b[0mrandint\u001b[0m\u001b[1;33m(\u001b[0m\u001b[1;36m0\u001b[0m\u001b[1;33m,\u001b[0m\u001b[1;36m100\u001b[0m\u001b[1;33m)\u001b[0m\u001b[1;33m\u001b[0m\u001b[0m\n\u001b[1;32m----> 9\u001b[1;33m \u001b[0mrandom\u001b[0m\u001b[1;33m.\u001b[0m\u001b[0mseed\u001b[0m\u001b[1;33m(\u001b[0m\u001b[0mRANDOM_SEED\u001b[0m\u001b[1;33m)\u001b[0m\u001b[1;33m\u001b[0m\u001b[0m\n\u001b[0m\u001b[0;32m     10\u001b[0m \u001b[1;33m\u001b[0m\u001b[0m\n\u001b[0;32m     11\u001b[0m \u001b[0mtoolbox\u001b[0m \u001b[1;33m=\u001b[0m \u001b[0mbase\u001b[0m\u001b[1;33m.\u001b[0m\u001b[0mToolbox\u001b[0m\u001b[1;33m(\u001b[0m\u001b[1;33m)\u001b[0m\u001b[1;33m\u001b[0m\u001b[0m\n",
      "\u001b[1;31mAttributeError\u001b[0m: 'builtin_function_or_method' object has no attribute 'seed'"
     ]
    }
   ],
   "source": [
    "LENGTH = 100\n",
    "POPULATION_SIZE=100\n",
    "P_CROSSOVER=0.8\n",
    "P_MUTATION=0.1\n",
    "MAX_GENERATIONS=50\n",
    "HALL_OF_FAME_SIZE = 10\n",
    "\n",
    "RANDOM_SEED = random.randint(0,100)\n",
    "random.seed(RAn)\n",
    "\n",
    "toolbox = base.Toolbox()\n",
    "\n",
    "TSP_NAME = \"bayg29\"\n",
    "tsp = TravelingSalesmanProblem(TSP_NAME)\n",
    "\n",
    "creator.create(\"FitnessMin\", base.Fitness, weights = (-1.0,))\n",
    "\n",
    "creator.create(\"Individual\", array.array, typecode = 'i', fitness = creator.FitnessMin)\n",
    "\n",
    "toolbox.register(\"randomOrder\", random.sample, range(len(tsp)), len(tsp))\n",
    "toolbox.register(\"individualCreator\",tools.initIterate, creator.Individual, toolbox.randomOrder)\n",
    "toolbox.register(\"populationCreator\", tools.initRepeat, list, toolbox.individualCreator)\n"
   ]
  },
  {
   "cell_type": "code",
   "execution_count": null,
   "id": "018db7df",
   "metadata": {},
   "outputs": [],
   "source": [
    "def tpsDistance(individual):\n",
    "    return tsp.getTotalDistance(individual),\n",
    "\n",
    "toolbox.register(\"evaluate\",tpsDistance)\n",
    "\n",
    "toolbox.register(\"select\", tools.selTournament, tournsize = 3)\n",
    "toolbox.register(\"mate\", tools.cxOrdered)\n",
    "toolbox.register(\"mutate\", tools.mutShuffleIndexes, indpb = 1.0/len(tsp))"
   ]
  },
  {
   "cell_type": "code",
   "execution_count": null,
   "id": "24b78c34",
   "metadata": {},
   "outputs": [],
   "source": [
    "def main():\n",
    "    \n",
    "    population = toolbox.populationCreator(n=POPULATION_SIZE)\n",
    "    \n",
    "    stats = tools.Statistics(lambda ind: ind.fitness.values)\n",
    "    \n",
    "    stats.register(\"max\", numpy.max)\n",
    "    stats.register(\"avg\", numpy.mean)\n",
    "    \n",
    "    hof = tools.HallOfFame(HALL_OF_FAME_SIZE)\n",
    "    \n",
    "    population, logbook = algorithms.eaSimple(population,toolbox,\n",
    "                                             cxpb=P_CROSSOVER, mutpb=P_MUTATION,\n",
    "                                             ngen=MAX_GENERATIONS, halloffame= hof,\n",
    "                                             stats=stats, verbose=True)\n",
    "    \n",
    "    maxFitnessValues, meanFitnessValues = logbook.select(\"max\", \"avg\")\n",
    "    \n",
    "    plt.plot(maxFitnessValues, color='red')\n",
    "    plt.plot(meanFitnessValues, color = \"green\")\n",
    "    plt.xlabel('Поколение')\n",
    "    plt.ylabel('Макс/средняя приспособленность')\n",
    "    plt.title('Зависимость максимальной и средней приспособленности от поколения')\n",
    "    plt.show()\n",
    "        \n",
    "    best = hof.items[0]\n",
    "    tsp.plotData()"
   ]
  },
  {
   "cell_type": "code",
   "execution_count": null,
   "id": "582ca02f",
   "metadata": {},
   "outputs": [],
   "source": []
  },
  {
   "cell_type": "code",
   "execution_count": null,
   "id": "33443578",
   "metadata": {},
   "outputs": [],
   "source": []
  }
 ],
 "metadata": {
  "kernelspec": {
   "display_name": "Omar",
   "language": "python",
   "name": "omar"
  },
  "language_info": {
   "codemirror_mode": {
    "name": "ipython",
    "version": 3
   },
   "file_extension": ".py",
   "mimetype": "text/x-python",
   "name": "python",
   "nbconvert_exporter": "python",
   "pygments_lexer": "ipython3",
   "version": "3.7.0"
  }
 },
 "nbformat": 4,
 "nbformat_minor": 5
}
